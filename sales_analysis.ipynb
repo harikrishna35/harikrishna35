{
  "nbformat": 4,
  "nbformat_minor": 0,
  "metadata": {
    "colab": {
      "name": "sales analysis.ipynb",
      "provenance": [],
      "collapsed_sections": [],
      "mount_file_id": "1MnIy2CiReQE3gOalU3b7TihoMtz7kaHT",
      "authorship_tag": "ABX9TyNt6Pa6N5tQ1Xq5H4qBi+3B",
      "include_colab_link": true
    },
    "kernelspec": {
      "name": "python3",
      "display_name": "Python 3"
    },
    "language_info": {
      "name": "python"
    }
  },
  "cells": [
    {
      "cell_type": "markdown",
      "metadata": {
        "id": "view-in-github",
        "colab_type": "text"
      },
      "source": [
        "<a href=\"https://colab.research.google.com/github/harikrishna35/harikrishna35/blob/main/sales_analysis.ipynb\" target=\"_parent\"><img src=\"https://colab.research.google.com/assets/colab-badge.svg\" alt=\"Open In Colab\"/></a>"
      ]
    },
    {
      "cell_type": "code",
      "metadata": {
        "id": "5FizOxjzhQrC"
      },
      "source": [
        ""
      ],
      "execution_count": 53,
      "outputs": []
    },
    {
      "cell_type": "markdown",
      "metadata": {
        "id": "_hQ9WOM8hSF6"
      },
      "source": [
        "# New Section"
      ]
    },
    {
      "cell_type": "code",
      "metadata": {
        "id": "J4k5G40AhvnG"
      },
      "source": [
        "import pandas as pd\n",
        "import matplotlib.pyplot as plt\n",
        "import os"
      ],
      "execution_count": 54,
      "outputs": []
    },
    {
      "cell_type": "code",
      "metadata": {
        "colab": {
          "base_uri": "https://localhost:8080/"
        },
        "id": "35K4AomkjERe",
        "outputId": "cbdd1a68-3910-4f96-b1c7-6a9af638630c"
      },
      "source": [
        "sales_path=\"/sales\"\n",
        "file_name=os.listdir(sales_path)\n",
        "yearly_sales=pd.DataFrame()\n",
        "for file in file_name:\n",
        "  temp_DataFrame=pd.read_csv(sales_path+'/'+file)\n",
        "  yearly_sales=pd.concat([yearly_sales,temp_DataFrame])\n",
        "  print(yearly_sales.head())"
      ],
      "execution_count": 55,
      "outputs": [
        {
          "output_type": "stream",
          "name": "stdout",
          "text": [
            "  Order ID  ...                       Purchase Address\n",
            "0   141234  ...        944 Walnut St, Boston, MA 02215\n",
            "1   141235  ...       185 Maple St, Portland, OR 97035\n",
            "2   141236  ...  538 Adams St, San Francisco, CA 94016\n",
            "3   141237  ...     738 10th St, Los Angeles, CA 90001\n",
            "4   141238  ...          387 10th St, Austin, TX 73301\n",
            "\n",
            "[5 rows x 6 columns]\n",
            "  Order ID  ...                       Purchase Address\n",
            "0   141234  ...        944 Walnut St, Boston, MA 02215\n",
            "1   141235  ...       185 Maple St, Portland, OR 97035\n",
            "2   141236  ...  538 Adams St, San Francisco, CA 94016\n",
            "3   141237  ...     738 10th St, Los Angeles, CA 90001\n",
            "4   141238  ...          387 10th St, Austin, TX 73301\n",
            "\n",
            "[5 rows x 6 columns]\n",
            "  Order ID  ...                       Purchase Address\n",
            "0   141234  ...        944 Walnut St, Boston, MA 02215\n",
            "1   141235  ...       185 Maple St, Portland, OR 97035\n",
            "2   141236  ...  538 Adams St, San Francisco, CA 94016\n",
            "3   141237  ...     738 10th St, Los Angeles, CA 90001\n",
            "4   141238  ...          387 10th St, Austin, TX 73301\n",
            "\n",
            "[5 rows x 6 columns]\n",
            "  Order ID  ...                       Purchase Address\n",
            "0   141234  ...        944 Walnut St, Boston, MA 02215\n",
            "1   141235  ...       185 Maple St, Portland, OR 97035\n",
            "2   141236  ...  538 Adams St, San Francisco, CA 94016\n",
            "3   141237  ...     738 10th St, Los Angeles, CA 90001\n",
            "4   141238  ...          387 10th St, Austin, TX 73301\n",
            "\n",
            "[5 rows x 6 columns]\n",
            "  Order ID  ...                       Purchase Address\n",
            "0   141234  ...        944 Walnut St, Boston, MA 02215\n",
            "1   141235  ...       185 Maple St, Portland, OR 97035\n",
            "2   141236  ...  538 Adams St, San Francisco, CA 94016\n",
            "3   141237  ...     738 10th St, Los Angeles, CA 90001\n",
            "4   141238  ...          387 10th St, Austin, TX 73301\n",
            "\n",
            "[5 rows x 6 columns]\n",
            "  Order ID  ...                       Purchase Address\n",
            "0   141234  ...        944 Walnut St, Boston, MA 02215\n",
            "1   141235  ...       185 Maple St, Portland, OR 97035\n",
            "2   141236  ...  538 Adams St, San Francisco, CA 94016\n",
            "3   141237  ...     738 10th St, Los Angeles, CA 90001\n",
            "4   141238  ...          387 10th St, Austin, TX 73301\n",
            "\n",
            "[5 rows x 6 columns]\n",
            "  Order ID  ...                       Purchase Address\n",
            "0   141234  ...        944 Walnut St, Boston, MA 02215\n",
            "1   141235  ...       185 Maple St, Portland, OR 97035\n",
            "2   141236  ...  538 Adams St, San Francisco, CA 94016\n",
            "3   141237  ...     738 10th St, Los Angeles, CA 90001\n",
            "4   141238  ...          387 10th St, Austin, TX 73301\n",
            "\n",
            "[5 rows x 6 columns]\n",
            "  Order ID  ...                       Purchase Address\n",
            "0   141234  ...        944 Walnut St, Boston, MA 02215\n",
            "1   141235  ...       185 Maple St, Portland, OR 97035\n",
            "2   141236  ...  538 Adams St, San Francisco, CA 94016\n",
            "3   141237  ...     738 10th St, Los Angeles, CA 90001\n",
            "4   141238  ...          387 10th St, Austin, TX 73301\n",
            "\n",
            "[5 rows x 6 columns]\n",
            "  Order ID  ...                       Purchase Address\n",
            "0   141234  ...        944 Walnut St, Boston, MA 02215\n",
            "1   141235  ...       185 Maple St, Portland, OR 97035\n",
            "2   141236  ...  538 Adams St, San Francisco, CA 94016\n",
            "3   141237  ...     738 10th St, Los Angeles, CA 90001\n",
            "4   141238  ...          387 10th St, Austin, TX 73301\n",
            "\n",
            "[5 rows x 6 columns]\n",
            "  Order ID  ...                       Purchase Address\n",
            "0   141234  ...        944 Walnut St, Boston, MA 02215\n",
            "1   141235  ...       185 Maple St, Portland, OR 97035\n",
            "2   141236  ...  538 Adams St, San Francisco, CA 94016\n",
            "3   141237  ...     738 10th St, Los Angeles, CA 90001\n",
            "4   141238  ...          387 10th St, Austin, TX 73301\n",
            "\n",
            "[5 rows x 6 columns]\n",
            "  Order ID  ...                       Purchase Address\n",
            "0   141234  ...        944 Walnut St, Boston, MA 02215\n",
            "1   141235  ...       185 Maple St, Portland, OR 97035\n",
            "2   141236  ...  538 Adams St, San Francisco, CA 94016\n",
            "3   141237  ...     738 10th St, Los Angeles, CA 90001\n",
            "4   141238  ...          387 10th St, Austin, TX 73301\n",
            "\n",
            "[5 rows x 6 columns]\n",
            "  Order ID  ...                       Purchase Address\n",
            "0   141234  ...        944 Walnut St, Boston, MA 02215\n",
            "1   141235  ...       185 Maple St, Portland, OR 97035\n",
            "2   141236  ...  538 Adams St, San Francisco, CA 94016\n",
            "3   141237  ...     738 10th St, Los Angeles, CA 90001\n",
            "4   141238  ...          387 10th St, Austin, TX 73301\n",
            "\n",
            "[5 rows x 6 columns]\n"
          ]
        }
      ]
    },
    {
      "cell_type": "code",
      "metadata": {
        "colab": {
          "base_uri": "https://localhost:8080/"
        },
        "id": "xC1D-_kmlhCJ",
        "outputId": "7000c67b-6a25-4d12-d5da-4d8cac48470a"
      },
      "source": [
        "print(yearly_sales.shape)"
      ],
      "execution_count": 56,
      "outputs": [
        {
          "output_type": "stream",
          "name": "stdout",
          "text": [
            "(186850, 6)\n"
          ]
        }
      ]
    },
    {
      "cell_type": "code",
      "metadata": {
        "colab": {
          "base_uri": "https://localhost:8080/"
        },
        "id": "YUM6vJ8llsYY",
        "outputId": "d78e9ff7-5b78-493b-ed11-02bd383cbe29"
      },
      "source": [
        "#clearing na coloums\n",
        "yearly_sales[yearly_sales.isna().any(axis=1)]\n",
        "print(yearly_sales.shape)\n",
        "yearly_sales = yearly_sales.dropna(how = 'all')\n",
        "print(yearly_sales.shape)"
      ],
      "execution_count": 57,
      "outputs": [
        {
          "output_type": "stream",
          "name": "stdout",
          "text": [
            "(186850, 6)\n",
            "(186305, 6)\n"
          ]
        }
      ]
    },
    {
      "cell_type": "code",
      "metadata": {
        "colab": {
          "base_uri": "https://localhost:8080/"
        },
        "id": "En2gSmvEm6BV",
        "outputId": "89476aa9-d419-4209-f743-49cf2423e2e8"
      },
      "source": [
        "print(yearly_sales.dtypes)"
      ],
      "execution_count": 58,
      "outputs": [
        {
          "output_type": "stream",
          "name": "stdout",
          "text": [
            "Order ID            object\n",
            "Product             object\n",
            "Quantity Ordered    object\n",
            "Price Each          object\n",
            "Order Date          object\n",
            "Purchase Address    object\n",
            "dtype: object\n"
          ]
        }
      ]
    },
    {
      "cell_type": "code",
      "metadata": {
        "id": "pQ4yydTuX2yv"
      },
      "source": [
        ""
      ],
      "execution_count": null,
      "outputs": []
    },
    {
      "cell_type": "code",
      "metadata": {
        "colab": {
          "base_uri": "https://localhost:8080/",
          "height": 305
        },
        "id": "Kwi6q0hcnFWA",
        "outputId": "4bed0ed1-9d47-43be-f7a1-1d9c979538b0"
      },
      "source": [
        "yearly_sales.head()"
      ],
      "execution_count": 59,
      "outputs": [
        {
          "output_type": "execute_result",
          "data": {
            "text/html": [
              "<div>\n",
              "<style scoped>\n",
              "    .dataframe tbody tr th:only-of-type {\n",
              "        vertical-align: middle;\n",
              "    }\n",
              "\n",
              "    .dataframe tbody tr th {\n",
              "        vertical-align: top;\n",
              "    }\n",
              "\n",
              "    .dataframe thead th {\n",
              "        text-align: right;\n",
              "    }\n",
              "</style>\n",
              "<table border=\"1\" class=\"dataframe\">\n",
              "  <thead>\n",
              "    <tr style=\"text-align: right;\">\n",
              "      <th></th>\n",
              "      <th>Order ID</th>\n",
              "      <th>Product</th>\n",
              "      <th>Quantity Ordered</th>\n",
              "      <th>Price Each</th>\n",
              "      <th>Order Date</th>\n",
              "      <th>Purchase Address</th>\n",
              "    </tr>\n",
              "  </thead>\n",
              "  <tbody>\n",
              "    <tr>\n",
              "      <th>0</th>\n",
              "      <td>141234</td>\n",
              "      <td>iPhone</td>\n",
              "      <td>1</td>\n",
              "      <td>700</td>\n",
              "      <td>01/22/19 21:25</td>\n",
              "      <td>944 Walnut St, Boston, MA 02215</td>\n",
              "    </tr>\n",
              "    <tr>\n",
              "      <th>1</th>\n",
              "      <td>141235</td>\n",
              "      <td>Lightning Charging Cable</td>\n",
              "      <td>1</td>\n",
              "      <td>14.95</td>\n",
              "      <td>01/28/19 14:15</td>\n",
              "      <td>185 Maple St, Portland, OR 97035</td>\n",
              "    </tr>\n",
              "    <tr>\n",
              "      <th>2</th>\n",
              "      <td>141236</td>\n",
              "      <td>Wired Headphones</td>\n",
              "      <td>2</td>\n",
              "      <td>11.99</td>\n",
              "      <td>01/17/19 13:33</td>\n",
              "      <td>538 Adams St, San Francisco, CA 94016</td>\n",
              "    </tr>\n",
              "    <tr>\n",
              "      <th>3</th>\n",
              "      <td>141237</td>\n",
              "      <td>27in FHD Monitor</td>\n",
              "      <td>1</td>\n",
              "      <td>149.99</td>\n",
              "      <td>01/05/19 20:33</td>\n",
              "      <td>738 10th St, Los Angeles, CA 90001</td>\n",
              "    </tr>\n",
              "    <tr>\n",
              "      <th>4</th>\n",
              "      <td>141238</td>\n",
              "      <td>Wired Headphones</td>\n",
              "      <td>1</td>\n",
              "      <td>11.99</td>\n",
              "      <td>01/25/19 11:59</td>\n",
              "      <td>387 10th St, Austin, TX 73301</td>\n",
              "    </tr>\n",
              "  </tbody>\n",
              "</table>\n",
              "</div>"
            ],
            "text/plain": [
              "  Order ID  ...                       Purchase Address\n",
              "0   141234  ...        944 Walnut St, Boston, MA 02215\n",
              "1   141235  ...       185 Maple St, Portland, OR 97035\n",
              "2   141236  ...  538 Adams St, San Francisco, CA 94016\n",
              "3   141237  ...     738 10th St, Los Angeles, CA 90001\n",
              "4   141238  ...          387 10th St, Austin, TX 73301\n",
              "\n",
              "[5 rows x 6 columns]"
            ]
          },
          "metadata": {},
          "execution_count": 59
        }
      ]
    },
    {
      "cell_type": "code",
      "metadata": {
        "colab": {
          "base_uri": "https://localhost:8080/"
        },
        "id": "5106o1x4nKy2",
        "outputId": "5a41c006-ac0e-4db6-f243-d68e4628bc85"
      },
      "source": [
        "print(yearly_sales.shape)\n",
        "yearly_sales=yearly_sales[yearly_sales[\"Quantity Ordered\"].str[0:1]!=\"Q\"]\n",
        "print(yearly_sales.shape)"
      ],
      "execution_count": 60,
      "outputs": [
        {
          "output_type": "stream",
          "name": "stdout",
          "text": [
            "(186305, 6)\n",
            "(185950, 6)\n"
          ]
        }
      ]
    },
    {
      "cell_type": "code",
      "metadata": {
        "colab": {
          "base_uri": "https://localhost:8080/"
        },
        "id": "NGfaCy9JohAA",
        "outputId": "3f31b132-f031-4238-bf7c-486b20debec0"
      },
      "source": [
        "yearly_sales.dtypes"
      ],
      "execution_count": 61,
      "outputs": [
        {
          "output_type": "execute_result",
          "data": {
            "text/plain": [
              "Order ID            object\n",
              "Product             object\n",
              "Quantity Ordered    object\n",
              "Price Each          object\n",
              "Order Date          object\n",
              "Purchase Address    object\n",
              "dtype: object"
            ]
          },
          "metadata": {},
          "execution_count": 61
        }
      ]
    },
    {
      "cell_type": "code",
      "metadata": {
        "id": "NWdZKgPKop76"
      },
      "source": [
        "yearly_sales['Order ID']=pd.to_numeric(yearly_sales['Order ID'])\n",
        "yearly_sales['Quantity Ordered']=pd.to_numeric(yearly_sales['Quantity Ordered'])\n",
        "yearly_sales['Price Each']=pd.to_numeric(yearly_sales['Price Each'])"
      ],
      "execution_count": 62,
      "outputs": []
    },
    {
      "cell_type": "code",
      "metadata": {
        "colab": {
          "base_uri": "https://localhost:8080/"
        },
        "id": "9yiQnvFrpfyo",
        "outputId": "cca619e2-899a-46b9-a24e-a7a7a62b27b3"
      },
      "source": [
        "yearly_sales.dtypes"
      ],
      "execution_count": 63,
      "outputs": [
        {
          "output_type": "execute_result",
          "data": {
            "text/plain": [
              "Order ID              int64\n",
              "Product              object\n",
              "Quantity Ordered      int64\n",
              "Price Each          float64\n",
              "Order Date           object\n",
              "Purchase Address     object\n",
              "dtype: object"
            ]
          },
          "metadata": {},
          "execution_count": 63
        }
      ]
    },
    {
      "cell_type": "code",
      "metadata": {
        "colab": {
          "base_uri": "https://localhost:8080/",
          "height": 305
        },
        "id": "TVLKI1vPpwmW",
        "outputId": "21506f30-24f5-4a83-e169-a596567aebb1"
      },
      "source": [
        "yearly_sales[\"month\"]=yearly_sales[\"Order Date\"].str[0:2].astype('int8')\n",
        "yearly_sales.head()"
      ],
      "execution_count": 64,
      "outputs": [
        {
          "output_type": "execute_result",
          "data": {
            "text/html": [
              "<div>\n",
              "<style scoped>\n",
              "    .dataframe tbody tr th:only-of-type {\n",
              "        vertical-align: middle;\n",
              "    }\n",
              "\n",
              "    .dataframe tbody tr th {\n",
              "        vertical-align: top;\n",
              "    }\n",
              "\n",
              "    .dataframe thead th {\n",
              "        text-align: right;\n",
              "    }\n",
              "</style>\n",
              "<table border=\"1\" class=\"dataframe\">\n",
              "  <thead>\n",
              "    <tr style=\"text-align: right;\">\n",
              "      <th></th>\n",
              "      <th>Order ID</th>\n",
              "      <th>Product</th>\n",
              "      <th>Quantity Ordered</th>\n",
              "      <th>Price Each</th>\n",
              "      <th>Order Date</th>\n",
              "      <th>Purchase Address</th>\n",
              "      <th>month</th>\n",
              "    </tr>\n",
              "  </thead>\n",
              "  <tbody>\n",
              "    <tr>\n",
              "      <th>0</th>\n",
              "      <td>141234</td>\n",
              "      <td>iPhone</td>\n",
              "      <td>1</td>\n",
              "      <td>700.00</td>\n",
              "      <td>01/22/19 21:25</td>\n",
              "      <td>944 Walnut St, Boston, MA 02215</td>\n",
              "      <td>1</td>\n",
              "    </tr>\n",
              "    <tr>\n",
              "      <th>1</th>\n",
              "      <td>141235</td>\n",
              "      <td>Lightning Charging Cable</td>\n",
              "      <td>1</td>\n",
              "      <td>14.95</td>\n",
              "      <td>01/28/19 14:15</td>\n",
              "      <td>185 Maple St, Portland, OR 97035</td>\n",
              "      <td>1</td>\n",
              "    </tr>\n",
              "    <tr>\n",
              "      <th>2</th>\n",
              "      <td>141236</td>\n",
              "      <td>Wired Headphones</td>\n",
              "      <td>2</td>\n",
              "      <td>11.99</td>\n",
              "      <td>01/17/19 13:33</td>\n",
              "      <td>538 Adams St, San Francisco, CA 94016</td>\n",
              "      <td>1</td>\n",
              "    </tr>\n",
              "    <tr>\n",
              "      <th>3</th>\n",
              "      <td>141237</td>\n",
              "      <td>27in FHD Monitor</td>\n",
              "      <td>1</td>\n",
              "      <td>149.99</td>\n",
              "      <td>01/05/19 20:33</td>\n",
              "      <td>738 10th St, Los Angeles, CA 90001</td>\n",
              "      <td>1</td>\n",
              "    </tr>\n",
              "    <tr>\n",
              "      <th>4</th>\n",
              "      <td>141238</td>\n",
              "      <td>Wired Headphones</td>\n",
              "      <td>1</td>\n",
              "      <td>11.99</td>\n",
              "      <td>01/25/19 11:59</td>\n",
              "      <td>387 10th St, Austin, TX 73301</td>\n",
              "      <td>1</td>\n",
              "    </tr>\n",
              "  </tbody>\n",
              "</table>\n",
              "</div>"
            ],
            "text/plain": [
              "   Order ID  ... month\n",
              "0    141234  ...     1\n",
              "1    141235  ...     1\n",
              "2    141236  ...     1\n",
              "3    141237  ...     1\n",
              "4    141238  ...     1\n",
              "\n",
              "[5 rows x 7 columns]"
            ]
          },
          "metadata": {},
          "execution_count": 64
        }
      ]
    },
    {
      "cell_type": "code",
      "metadata": {
        "id": "PH5E_tBDqqmF"
      },
      "source": [
        "def get_city(Purchase_address):\n",
        "  return Purchase_address.split(\",\")[1].strip(\" \")\n",
        "\n",
        "yearly_sales[\"city\"]=yearly_sales['Purchase Address'].apply(get_city)"
      ],
      "execution_count": 65,
      "outputs": []
    },
    {
      "cell_type": "code",
      "metadata": {
        "colab": {
          "base_uri": "https://localhost:8080/",
          "height": 305
        },
        "id": "94LMggXdrdP3",
        "outputId": "7cae6b88-df65-44d6-d384-40f4bed5b909"
      },
      "source": [
        "yearly_sales.head()"
      ],
      "execution_count": 66,
      "outputs": [
        {
          "output_type": "execute_result",
          "data": {
            "text/html": [
              "<div>\n",
              "<style scoped>\n",
              "    .dataframe tbody tr th:only-of-type {\n",
              "        vertical-align: middle;\n",
              "    }\n",
              "\n",
              "    .dataframe tbody tr th {\n",
              "        vertical-align: top;\n",
              "    }\n",
              "\n",
              "    .dataframe thead th {\n",
              "        text-align: right;\n",
              "    }\n",
              "</style>\n",
              "<table border=\"1\" class=\"dataframe\">\n",
              "  <thead>\n",
              "    <tr style=\"text-align: right;\">\n",
              "      <th></th>\n",
              "      <th>Order ID</th>\n",
              "      <th>Product</th>\n",
              "      <th>Quantity Ordered</th>\n",
              "      <th>Price Each</th>\n",
              "      <th>Order Date</th>\n",
              "      <th>Purchase Address</th>\n",
              "      <th>month</th>\n",
              "      <th>city</th>\n",
              "    </tr>\n",
              "  </thead>\n",
              "  <tbody>\n",
              "    <tr>\n",
              "      <th>0</th>\n",
              "      <td>141234</td>\n",
              "      <td>iPhone</td>\n",
              "      <td>1</td>\n",
              "      <td>700.00</td>\n",
              "      <td>01/22/19 21:25</td>\n",
              "      <td>944 Walnut St, Boston, MA 02215</td>\n",
              "      <td>1</td>\n",
              "      <td>Boston</td>\n",
              "    </tr>\n",
              "    <tr>\n",
              "      <th>1</th>\n",
              "      <td>141235</td>\n",
              "      <td>Lightning Charging Cable</td>\n",
              "      <td>1</td>\n",
              "      <td>14.95</td>\n",
              "      <td>01/28/19 14:15</td>\n",
              "      <td>185 Maple St, Portland, OR 97035</td>\n",
              "      <td>1</td>\n",
              "      <td>Portland</td>\n",
              "    </tr>\n",
              "    <tr>\n",
              "      <th>2</th>\n",
              "      <td>141236</td>\n",
              "      <td>Wired Headphones</td>\n",
              "      <td>2</td>\n",
              "      <td>11.99</td>\n",
              "      <td>01/17/19 13:33</td>\n",
              "      <td>538 Adams St, San Francisco, CA 94016</td>\n",
              "      <td>1</td>\n",
              "      <td>San Francisco</td>\n",
              "    </tr>\n",
              "    <tr>\n",
              "      <th>3</th>\n",
              "      <td>141237</td>\n",
              "      <td>27in FHD Monitor</td>\n",
              "      <td>1</td>\n",
              "      <td>149.99</td>\n",
              "      <td>01/05/19 20:33</td>\n",
              "      <td>738 10th St, Los Angeles, CA 90001</td>\n",
              "      <td>1</td>\n",
              "      <td>Los Angeles</td>\n",
              "    </tr>\n",
              "    <tr>\n",
              "      <th>4</th>\n",
              "      <td>141238</td>\n",
              "      <td>Wired Headphones</td>\n",
              "      <td>1</td>\n",
              "      <td>11.99</td>\n",
              "      <td>01/25/19 11:59</td>\n",
              "      <td>387 10th St, Austin, TX 73301</td>\n",
              "      <td>1</td>\n",
              "      <td>Austin</td>\n",
              "    </tr>\n",
              "  </tbody>\n",
              "</table>\n",
              "</div>"
            ],
            "text/plain": [
              "   Order ID                   Product  ...  month           city\n",
              "0    141234                    iPhone  ...      1         Boston\n",
              "1    141235  Lightning Charging Cable  ...      1       Portland\n",
              "2    141236          Wired Headphones  ...      1  San Francisco\n",
              "3    141237          27in FHD Monitor  ...      1    Los Angeles\n",
              "4    141238          Wired Headphones  ...      1         Austin\n",
              "\n",
              "[5 rows x 8 columns]"
            ]
          },
          "metadata": {},
          "execution_count": 66
        }
      ]
    },
    {
      "cell_type": "code",
      "metadata": {
        "id": "UzTwaa7OrjAH"
      },
      "source": [
        "def get_state(purchase_address):\n",
        "  return purchase_address.split(\",\")[2].split(\" \")[1]\n",
        "\n",
        "yearly_sales[\"state\"]=yearly_sales[\"Purchase Address\"].apply(get_state)"
      ],
      "execution_count": 67,
      "outputs": []
    },
    {
      "cell_type": "code",
      "metadata": {
        "colab": {
          "base_uri": "https://localhost:8080/",
          "height": 373
        },
        "id": "B1A5Zmn1sdo1",
        "outputId": "92a8baad-0836-4224-ba63-87a12c687f3f"
      },
      "source": [
        "yearly_sales.head()"
      ],
      "execution_count": 68,
      "outputs": [
        {
          "output_type": "execute_result",
          "data": {
            "text/html": [
              "<div>\n",
              "<style scoped>\n",
              "    .dataframe tbody tr th:only-of-type {\n",
              "        vertical-align: middle;\n",
              "    }\n",
              "\n",
              "    .dataframe tbody tr th {\n",
              "        vertical-align: top;\n",
              "    }\n",
              "\n",
              "    .dataframe thead th {\n",
              "        text-align: right;\n",
              "    }\n",
              "</style>\n",
              "<table border=\"1\" class=\"dataframe\">\n",
              "  <thead>\n",
              "    <tr style=\"text-align: right;\">\n",
              "      <th></th>\n",
              "      <th>Order ID</th>\n",
              "      <th>Product</th>\n",
              "      <th>Quantity Ordered</th>\n",
              "      <th>Price Each</th>\n",
              "      <th>Order Date</th>\n",
              "      <th>Purchase Address</th>\n",
              "      <th>month</th>\n",
              "      <th>city</th>\n",
              "      <th>state</th>\n",
              "    </tr>\n",
              "  </thead>\n",
              "  <tbody>\n",
              "    <tr>\n",
              "      <th>0</th>\n",
              "      <td>141234</td>\n",
              "      <td>iPhone</td>\n",
              "      <td>1</td>\n",
              "      <td>700.00</td>\n",
              "      <td>01/22/19 21:25</td>\n",
              "      <td>944 Walnut St, Boston, MA 02215</td>\n",
              "      <td>1</td>\n",
              "      <td>Boston</td>\n",
              "      <td>MA</td>\n",
              "    </tr>\n",
              "    <tr>\n",
              "      <th>1</th>\n",
              "      <td>141235</td>\n",
              "      <td>Lightning Charging Cable</td>\n",
              "      <td>1</td>\n",
              "      <td>14.95</td>\n",
              "      <td>01/28/19 14:15</td>\n",
              "      <td>185 Maple St, Portland, OR 97035</td>\n",
              "      <td>1</td>\n",
              "      <td>Portland</td>\n",
              "      <td>OR</td>\n",
              "    </tr>\n",
              "    <tr>\n",
              "      <th>2</th>\n",
              "      <td>141236</td>\n",
              "      <td>Wired Headphones</td>\n",
              "      <td>2</td>\n",
              "      <td>11.99</td>\n",
              "      <td>01/17/19 13:33</td>\n",
              "      <td>538 Adams St, San Francisco, CA 94016</td>\n",
              "      <td>1</td>\n",
              "      <td>San Francisco</td>\n",
              "      <td>CA</td>\n",
              "    </tr>\n",
              "    <tr>\n",
              "      <th>3</th>\n",
              "      <td>141237</td>\n",
              "      <td>27in FHD Monitor</td>\n",
              "      <td>1</td>\n",
              "      <td>149.99</td>\n",
              "      <td>01/05/19 20:33</td>\n",
              "      <td>738 10th St, Los Angeles, CA 90001</td>\n",
              "      <td>1</td>\n",
              "      <td>Los Angeles</td>\n",
              "      <td>CA</td>\n",
              "    </tr>\n",
              "    <tr>\n",
              "      <th>4</th>\n",
              "      <td>141238</td>\n",
              "      <td>Wired Headphones</td>\n",
              "      <td>1</td>\n",
              "      <td>11.99</td>\n",
              "      <td>01/25/19 11:59</td>\n",
              "      <td>387 10th St, Austin, TX 73301</td>\n",
              "      <td>1</td>\n",
              "      <td>Austin</td>\n",
              "      <td>TX</td>\n",
              "    </tr>\n",
              "  </tbody>\n",
              "</table>\n",
              "</div>"
            ],
            "text/plain": [
              "   Order ID                   Product  ...           city  state\n",
              "0    141234                    iPhone  ...         Boston     MA\n",
              "1    141235  Lightning Charging Cable  ...       Portland     OR\n",
              "2    141236          Wired Headphones  ...  San Francisco     CA\n",
              "3    141237          27in FHD Monitor  ...    Los Angeles     CA\n",
              "4    141238          Wired Headphones  ...         Austin     TX\n",
              "\n",
              "[5 rows x 9 columns]"
            ]
          },
          "metadata": {},
          "execution_count": 68
        }
      ]
    },
    {
      "cell_type": "code",
      "metadata": {
        "id": "Prd1OnmVtOUl"
      },
      "source": [
        "\n",
        "\n",
        "yearly_sales[\"sales\"]=yearly_sales[(\"Quantity Ordered\")]*yearly_sales[(\"Price Each\")]"
      ],
      "execution_count": 69,
      "outputs": []
    },
    {
      "cell_type": "code",
      "metadata": {
        "id": "UO-eUjBFxQMw"
      },
      "source": [
        ""
      ],
      "execution_count": 69,
      "outputs": []
    },
    {
      "cell_type": "code",
      "metadata": {
        "colab": {
          "base_uri": "https://localhost:8080/",
          "height": 407
        },
        "id": "uI03YXjGwplL",
        "outputId": "368d75ff-0a87-4152-e6c3-b04917bc3e8b"
      },
      "source": [
        "yearly_sales.head()"
      ],
      "execution_count": 70,
      "outputs": [
        {
          "output_type": "execute_result",
          "data": {
            "text/html": [
              "<div>\n",
              "<style scoped>\n",
              "    .dataframe tbody tr th:only-of-type {\n",
              "        vertical-align: middle;\n",
              "    }\n",
              "\n",
              "    .dataframe tbody tr th {\n",
              "        vertical-align: top;\n",
              "    }\n",
              "\n",
              "    .dataframe thead th {\n",
              "        text-align: right;\n",
              "    }\n",
              "</style>\n",
              "<table border=\"1\" class=\"dataframe\">\n",
              "  <thead>\n",
              "    <tr style=\"text-align: right;\">\n",
              "      <th></th>\n",
              "      <th>Order ID</th>\n",
              "      <th>Product</th>\n",
              "      <th>Quantity Ordered</th>\n",
              "      <th>Price Each</th>\n",
              "      <th>Order Date</th>\n",
              "      <th>Purchase Address</th>\n",
              "      <th>month</th>\n",
              "      <th>city</th>\n",
              "      <th>state</th>\n",
              "      <th>sales</th>\n",
              "    </tr>\n",
              "  </thead>\n",
              "  <tbody>\n",
              "    <tr>\n",
              "      <th>0</th>\n",
              "      <td>141234</td>\n",
              "      <td>iPhone</td>\n",
              "      <td>1</td>\n",
              "      <td>700.00</td>\n",
              "      <td>01/22/19 21:25</td>\n",
              "      <td>944 Walnut St, Boston, MA 02215</td>\n",
              "      <td>1</td>\n",
              "      <td>Boston</td>\n",
              "      <td>MA</td>\n",
              "      <td>700.00</td>\n",
              "    </tr>\n",
              "    <tr>\n",
              "      <th>1</th>\n",
              "      <td>141235</td>\n",
              "      <td>Lightning Charging Cable</td>\n",
              "      <td>1</td>\n",
              "      <td>14.95</td>\n",
              "      <td>01/28/19 14:15</td>\n",
              "      <td>185 Maple St, Portland, OR 97035</td>\n",
              "      <td>1</td>\n",
              "      <td>Portland</td>\n",
              "      <td>OR</td>\n",
              "      <td>14.95</td>\n",
              "    </tr>\n",
              "    <tr>\n",
              "      <th>2</th>\n",
              "      <td>141236</td>\n",
              "      <td>Wired Headphones</td>\n",
              "      <td>2</td>\n",
              "      <td>11.99</td>\n",
              "      <td>01/17/19 13:33</td>\n",
              "      <td>538 Adams St, San Francisco, CA 94016</td>\n",
              "      <td>1</td>\n",
              "      <td>San Francisco</td>\n",
              "      <td>CA</td>\n",
              "      <td>23.98</td>\n",
              "    </tr>\n",
              "    <tr>\n",
              "      <th>3</th>\n",
              "      <td>141237</td>\n",
              "      <td>27in FHD Monitor</td>\n",
              "      <td>1</td>\n",
              "      <td>149.99</td>\n",
              "      <td>01/05/19 20:33</td>\n",
              "      <td>738 10th St, Los Angeles, CA 90001</td>\n",
              "      <td>1</td>\n",
              "      <td>Los Angeles</td>\n",
              "      <td>CA</td>\n",
              "      <td>149.99</td>\n",
              "    </tr>\n",
              "    <tr>\n",
              "      <th>4</th>\n",
              "      <td>141238</td>\n",
              "      <td>Wired Headphones</td>\n",
              "      <td>1</td>\n",
              "      <td>11.99</td>\n",
              "      <td>01/25/19 11:59</td>\n",
              "      <td>387 10th St, Austin, TX 73301</td>\n",
              "      <td>1</td>\n",
              "      <td>Austin</td>\n",
              "      <td>TX</td>\n",
              "      <td>11.99</td>\n",
              "    </tr>\n",
              "  </tbody>\n",
              "</table>\n",
              "</div>"
            ],
            "text/plain": [
              "   Order ID                   Product  ...  state   sales\n",
              "0    141234                    iPhone  ...     MA  700.00\n",
              "1    141235  Lightning Charging Cable  ...     OR   14.95\n",
              "2    141236          Wired Headphones  ...     CA   23.98\n",
              "3    141237          27in FHD Monitor  ...     CA  149.99\n",
              "4    141238          Wired Headphones  ...     TX   11.99\n",
              "\n",
              "[5 rows x 10 columns]"
            ]
          },
          "metadata": {},
          "execution_count": 70
        }
      ]
    },
    {
      "cell_type": "code",
      "metadata": {
        "colab": {
          "base_uri": "https://localhost:8080/",
          "height": 295
        },
        "id": "7QgePgwVyGSt",
        "outputId": "5810044a-2f39-4916-969f-5fd25ede1c1f"
      },
      "source": [
        "\n",
        "plt.bar(range(1,13),yearly_sales.groupby(\"month\").sum()[\"sales\"])\n",
        "plt.xticks(range(1,13))\n",
        "plt.xlabel(\"months\")\n",
        "plt.ylabel(\"sales\")\n",
        "plt.title(\"sales per month\")\n",
        "plt.show()"
      ],
      "execution_count": 76,
      "outputs": [
        {
          "output_type": "display_data",
          "data": {
            "image/png": "[encoded data removed]",
            "text/plain": [
              "<Figure size 432x288 with 1 Axes>"
            ]
          },
          "metadata": {
            "needs_background": "light"
          }
        }
      ]
    },
    {
      "cell_type": "code",
      "metadata": {
        "colab": {
          "base_uri": "https://localhost:8080/",
          "height": 354
        },
        "id": "JrRGBFb-X5Aj",
        "outputId": "7afa2cb9-f433-4898-9cfe-554f01812d24"
      },
      "source": [
        "cities=yearly_sales[\"city\"].unique()\n",
        "plt.bar(cities,yearly_sales.groupby(\"city\").sum()[\"sales\"])\n",
        "plt.xticks(cities,rotation='vertical')\n",
        "plt.xlabel(\"cities\")\n",
        "plt.ylabel(\"sales\")\n",
        "plt.title(\"sales per cities\")\n",
        "plt.show()"
      ],
      "execution_count": 87,
      "outputs": [
        {
          "output_type": "display_data",
          "data": {
            "image/png": "[encoded data removed]",
            "text/plain": [
              "<Figure size 432x288 with 1 Axes>"
            ]
          },
          "metadata": {
            "needs_background": "light"
          }
        }
      ]
    },
    {
      "cell_type": "code",
      "metadata": {
        "id": "0km_K5HmX7MZ"
      },
      "source": [
        ""
      ],
      "execution_count": null,
      "outputs": []
    }
  ]
}